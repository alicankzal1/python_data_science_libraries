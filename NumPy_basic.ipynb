{
  "nbformat": 4,
  "nbformat_minor": 0,
  "metadata": {
    "colab": {
      "provenance": []
    },
    "kernelspec": {
      "name": "python3",
      "display_name": "Python 3"
    },
    "language_info": {
      "name": "python"
    }
  },
  "cells": [
    {
      "cell_type": "markdown",
      "source": [
        "#NumPy"
      ],
      "metadata": {
        "id": "srQkGUZJClUR"
      }
    },
    {
      "cell_type": "code",
      "source": [
        "import numpy as np"
      ],
      "metadata": {
        "id": "CkcPDJVxCkZQ"
      },
      "execution_count": 2,
      "outputs": []
    },
    {
      "cell_type": "markdown",
      "source": [
        "#ndim"
      ],
      "metadata": {
        "id": "5zWeKluOKQlC"
      }
    },
    {
      "cell_type": "code",
      "source": [
        "##arrayimizin boyutunu belirleyebiliriz bu yöntemle.\n",
        "arr = np.array([1, 2, 3, 4], ndmin = 5)\n",
        "print(arr)\n",
        "print(arr.ndim) #arrayin kaç boyutlu olduğunu gösteren metod\n",
        "print(type(arr)) #numpy veri tipi"
      ],
      "metadata": {
        "id": "UHmpBv3vKAIU"
      },
      "execution_count": null,
      "outputs": []
    },
    {
      "cell_type": "markdown",
      "source": [
        "#Data Type "
      ],
      "metadata": {
        "id": "9rMIQTJkK7M7"
      }
    },
    {
      "cell_type": "code",
      "source": [
        "\"\"\"\n",
        "i - integer\n",
        "b - boolean\n",
        "u - unsigned integer\n",
        "f - float\n",
        "c - complex float\n",
        "m - timedelta\n",
        "M - datetime\n",
        "O - object\n",
        "S - string\n",
        "U - unicode string\n",
        "V - fixed chunk of memory for other type ( void )\n",
        "\"\"\""
      ],
      "metadata": {
        "id": "LWlqaDjYKAph"
      },
      "execution_count": null,
      "outputs": []
    },
    {
      "cell_type": "code",
      "source": [
        "#dtype= metoduyla arrayimizin veri tipini değiştirebiliriz.\n",
        "arr2 = np.array([1, 2, 3, 4], dtype=\"S\")\n",
        "print(arr2)\n",
        "print(arr2.dtype)"
      ],
      "metadata": {
        "id": "ORmYQT9ZKA5C"
      },
      "execution_count": null,
      "outputs": []
    },
    {
      "cell_type": "code",
      "source": [
        "arr3 = np.array([1, 2, 3, 4], dtype=\"i4\") #integer olduğunu gösteren i'nin yanına sayılar yazarak kaç byte istediğimizi yazabiliriz\n",
        "print(arr3)\n",
        "print(arr3.dtype)"
      ],
      "metadata": {
        "id": "ZL9vUO3EKBEV"
      },
      "execution_count": null,
      "outputs": []
    },
    {
      "cell_type": "code",
      "source": [
        "newarr = arr2.astype(\"f\") # varolan bir arrayi kopyalayıp veri tipini depğiştirme\n",
        "print(newarr)\n",
        "print(newarr.dtype)"
      ],
      "metadata": {
        "id": "u9hmaHAkKBPO"
      },
      "execution_count": null,
      "outputs": []
    },
    {
      "cell_type": "markdown",
      "source": [
        "# Copy ve View"
      ],
      "metadata": {
        "id": "03IOzLLLMRqc"
      }
    },
    {
      "cell_type": "code",
      "source": [
        "arr4 = np.array([1, 2, 3, 4, 5])\n",
        "x = arr4.copy() ##copy metodunda değişikliler bir anlam ifade etmez ve orijinal array korunur.\n",
        "arr4[0] = 0\n",
        "print(arr4)\n",
        "print(x)\n",
        "#\n",
        "y = arr4.view() #view metodunda eğer orijinal array değişikliğe uğramışsa view edilen arrayde de değişiklik olur.\n",
        "arr4[0] = 26\n",
        "print(arr4)\n",
        "print(y)\n",
        "#base metoduyla view mi copy mi olduğunu anlarız. eğer base metodunda None ifadesi varsa copy; bir array datası varsa view'dir\n",
        "\n",
        "print(x.base)\n",
        "print(y.base)"
      ],
      "metadata": {
        "id": "j_tbaTf1MU-q"
      },
      "execution_count": null,
      "outputs": []
    },
    {
      "cell_type": "markdown",
      "source": [
        "# Shape \n"
      ],
      "metadata": {
        "id": "olbc_7OtMjNE"
      }
    },
    {
      "cell_type": "code",
      "source": [
        "print(arr.shape)\n",
        "print(arr4.shape)"
      ],
      "metadata": {
        "id": "BFn8ZhN6Mltw"
      },
      "execution_count": null,
      "outputs": []
    },
    {
      "cell_type": "markdown",
      "source": [
        "# Reshape"
      ],
      "metadata": {
        "id": "sTGG16PwMqmg"
      }
    },
    {
      "cell_type": "code",
      "source": [
        "#unknown dimension = eğer bir arrayda kaç eleman olduğunu bilmiyorsa reshape sonundaki sayıyı \"-1\" yaparsan numpy senin yerine otomatik olarak hesaplar.\n",
        "arr5 = np.array([1, 2, 3, 4, 5, 6, 7, 8])\n",
        "newarr = arr5.reshape(2, 2, -1)\n",
        "print(newarr)\n",
        "#reshape(-1) metoduyla çok boyutlu bir arrayi tek boyutlu hale getirebiliriz.\n",
        "print(arr5.reshape(-1))"
      ],
      "metadata": {
        "id": "M4rdyg93Mucm"
      },
      "execution_count": null,
      "outputs": []
    },
    {
      "cell_type": "markdown",
      "source": [
        "#iterating"
      ],
      "metadata": {
        "id": "RJrED_XZDTea"
      }
    },
    {
      "cell_type": "code",
      "source": [
        "#iteratind 1-d array\n",
        "arr = np.array([1, 2, 3, 4, 5])\n",
        "for i in arr:\n",
        "  print(i)"
      ],
      "metadata": {
        "id": "_W2ZM-YlCs_8"
      },
      "execution_count": null,
      "outputs": []
    },
    {
      "cell_type": "code",
      "source": [
        "#iterating 2-d array\n",
        "arr2d = np.array([[1, 2, 3, 4], [4, 5, 6, 7]])\n",
        "for i in arr2d:\n",
        "  print(i)\n",
        "#\n",
        "for i in arr2d:\n",
        "  for j in i:\n",
        "    print(j)\n"
      ],
      "metadata": {
        "id": "gg0IXr0KC6Fi"
      },
      "execution_count": null,
      "outputs": []
    },
    {
      "cell_type": "code",
      "source": [
        "# iterating 3-d array\n",
        "arr3d = np.array([[[1, 2, 3], [4, 5, 6]], [[7, 8, 9], [10, 11, 12]]])\n",
        "for i in arr3d:\n",
        "  print(\"i represents the 2-D array:\")\n",
        "  print(i)\n",
        "for i in arr3d:\n",
        "  for j in i:\n",
        "    for k in j:\n",
        "      print(k)"
      ],
      "metadata": {
        "id": "8xD9xlJADvfO"
      },
      "execution_count": null,
      "outputs": []
    },
    {
      "cell_type": "code",
      "source": [
        "#nditer() metodu = çok boyutlu arrayleri fazla döngü kullanmadan döndürmemize yarar \n",
        "arr = np.array([[[1, 2], [3, 4]], [[5, 6], [7, 8]]])\n",
        "arr3d = np.array([[[1, 2, 3], [4, 5, 6]], [[7, 8, 9], [10, 11, 12]]])\n",
        "for i in np.nditer(arr3d):\n",
        "  print(i)\n",
        "for i in np.nditer(arr):\n",
        "  print(i)\n"
      ],
      "metadata": {
        "id": "AxIt2y0pEonN"
      },
      "execution_count": null,
      "outputs": []
    },
    {
      "cell_type": "code",
      "source": [
        "#Başka veri tipleri ile iterate etme \n",
        "#op_dtypes argümanı sayesinde veri tipi değiştirilebilir.\n",
        "#fakat NumPy arraylerdeki elemanları değiştirmeye izin vermez. Bunun için de flags=['buffered'] argümanı kullanırız.\n",
        "\n",
        "arr = np.array([1, 2, 3])\n",
        "for i in np.nditer(arr, flags = [\"buffered\"], op_dtypes=[\"float64\"]):\n",
        "  print(i)"
      ],
      "metadata": {
        "id": "phePFfpCGm98"
      },
      "execution_count": null,
      "outputs": []
    },
    {
      "cell_type": "code",
      "source": [
        "##enumerate iteration\n",
        "#.ndenumerate\n",
        "#arraylerin indexlenmesi de diyebiliriz.\n",
        "arr = np.array([1, 2, 3])\n",
        "for i in np.ndenumerate(arr):\n",
        "  print(i)\n",
        "# 2-d\n",
        "print(\"######################2 boyutlu arraylerin enumerate edilmesi ###########################\")\n",
        "arr2d = np.array([[1, 2, 3, 4], [5, 6, 7, 8]])\n",
        "for i in np.ndenumerate(arr2d):\n",
        "  print(i)\n"
      ],
      "metadata": {
        "id": "KFkDtqK3IAVI"
      },
      "execution_count": null,
      "outputs": []
    },
    {
      "cell_type": "markdown",
      "source": [
        "#Numpy arraylerini join etme\n"
      ],
      "metadata": {
        "id": "vp30gpRD7LmV"
      }
    },
    {
      "cell_type": "code",
      "source": [
        "#concatenate() fonksiyonuyla yapılır."
      ],
      "metadata": {
        "id": "ev364IIg7Az_"
      },
      "execution_count": null,
      "outputs": []
    },
    {
      "cell_type": "code",
      "source": [
        "arr1 = np.array([1, 2, 3])\n",
        "\n",
        "arr2 = np.array([4, 5, 6])\n",
        "\n",
        "arr = np.concatenate((arr1, arr2))\n",
        "print(arr)\n"
      ],
      "metadata": {
        "colab": {
          "base_uri": "https://localhost:8080/"
        },
        "id": "DDPJQsqU7dQf",
        "outputId": "1007e196-609a-4bd6-c0be-d5c4c5068eb1"
      },
      "execution_count": 19,
      "outputs": [
        {
          "output_type": "stream",
          "name": "stdout",
          "text": [
            "[1 2 3 4 5 6]\n"
          ]
        }
      ]
    },
    {
      "cell_type": "code",
      "source": [
        "arr1 = np.array([[1, 2], [3, 4]])\n",
        "\n",
        "arr2 = np.array([[5, 6], [7, 8]])\n",
        "\n",
        "arr = np.concatenate((arr1, arr2), axis=1) ##2 boyutlu arraylarda axis=1 olursa sütunlar birleşir\n",
        "print(arr)"
      ],
      "metadata": {
        "id": "VCmrMusk7kTF",
        "colab": {
          "base_uri": "https://localhost:8080/"
        },
        "outputId": "95eafbbe-2341-4e3d-b86f-bc2d91bcf9cf"
      },
      "execution_count": 21,
      "outputs": [
        {
          "output_type": "stream",
          "name": "stdout",
          "text": [
            "[[1 2 5 6]\n",
            " [3 4 7 8]]\n"
          ]
        }
      ]
    },
    {
      "cell_type": "code",
      "source": [
        "#Stack fonksiyonuyla arraleri birleştirme\n",
        "  #concatenate() fonksiyonuna benzerdir. Tek farkı arraylere yeni boyutu gibi gösterir.\n",
        "arr1 = np.array([1, 2, 3])\n",
        "\n",
        "arr2 = np.array([4, 5, 6])\n",
        "\n",
        "arr = np.stack((arr1, arr2))\n",
        "print(arr)"
      ],
      "metadata": {
        "colab": {
          "base_uri": "https://localhost:8080/"
        },
        "id": "2Lxl6qruvVJT",
        "outputId": "760c6a0e-c170-4cae-aeda-1f35085cb466"
      },
      "execution_count": 16,
      "outputs": [
        {
          "output_type": "stream",
          "name": "stdout",
          "text": [
            "[[1 2 3]\n",
            " [4 5 6]]\n"
          ]
        }
      ]
    },
    {
      "cell_type": "code",
      "source": [
        "# satır boyunca stack fonksiyonu = hstack() = (horizontal) = concatenate((a,b), axis=1)\n",
        "arr1 = np.array([[1, 2, 3],[4, 5, 6]])\n",
        "\n",
        "arr2 = np.array([[7, 8, 9], [10, 11, 12]])\n",
        "\n",
        "arr = np.hstack((arr1, arr2))\n",
        "\n",
        "print(arr)\n"
      ],
      "metadata": {
        "colab": {
          "base_uri": "https://localhost:8080/"
        },
        "id": "pID_lBbGw1QV",
        "outputId": "3e414da0-b7f1-4fd4-8557-ce9283673431"
      },
      "execution_count": 23,
      "outputs": [
        {
          "output_type": "stream",
          "name": "stdout",
          "text": [
            "[[ 1  2  3  7  8  9]\n",
            " [ 4  5  6 10 11 12]]\n"
          ]
        }
      ]
    },
    {
      "cell_type": "code",
      "source": [
        "#sütun boyunca stack fonksiyonu = vstack()= concatenate((a,b), axis=0)\n",
        "arr1 = np.array([1, 2, 3])\n",
        "\n",
        "arr2 = np.array([4, 5, 6])\n",
        "\n",
        "arr = np.vstack((arr1, arr2))\n",
        "\n",
        "print(arr)"
      ],
      "metadata": {
        "colab": {
          "base_uri": "https://localhost:8080/"
        },
        "id": "yMwTMt-nxbWR",
        "outputId": "1aadc271-19e9-401e-a144-488cdbc4131f"
      },
      "execution_count": 15,
      "outputs": [
        {
          "output_type": "stream",
          "name": "stdout",
          "text": [
            "[[1 2 3]\n",
            " [4 5 6]]\n"
          ]
        }
      ]
    },
    {
      "cell_type": "code",
      "source": [
        "#uzunluk(derinlik) boyunca stack fonksiyonu = dstack() = depth\n",
        "arr1 = np.array([1, 2, 3])\n",
        "\n",
        "arr2 = np.array([4, 5, 6])\n",
        "\n",
        "arr = np.dstack((arr1, arr2))\n",
        "\n",
        "print(arr)"
      ],
      "metadata": {
        "id": "6L8W4CMcxleC"
      },
      "execution_count": null,
      "outputs": []
    },
    {
      "cell_type": "markdown",
      "source": [
        "# NumPy Splitting Array"
      ],
      "metadata": {
        "id": "VnifDy98CKMG"
      }
    },
    {
      "cell_type": "code",
      "source": [
        "#join metodunun tersidir.\n",
        "#arraylari bölmek için \"array_split()\" fonksiyonu kullanılır."
      ],
      "metadata": {
        "id": "AQTaLa-KCPGO"
      },
      "execution_count": 24,
      "outputs": []
    },
    {
      "cell_type": "code",
      "source": [
        "arr = np.array([1, 2, 3, 4, 5, 6, 7, 8, 9])\n",
        "\n",
        "newarr = np.array_split(arr,3)\n",
        "print(newarr)\n",
        "print(newarr[0]) #array elementi gibi yeni arraylere böyle erişebiliriz.\n",
        "print(newarr[1])\n",
        "print(newarr[2])"
      ],
      "metadata": {
        "colab": {
          "base_uri": "https://localhost:8080/"
        },
        "id": "Q32wUSYWCm3v",
        "outputId": "5579368f-6e69-4929-de15-cbe30b154a42"
      },
      "execution_count": 27,
      "outputs": [
        {
          "output_type": "stream",
          "name": "stdout",
          "text": [
            "[array([1, 2, 3]), array([4, 5, 6]), array([7, 8, 9])]\n",
            "[1 2 3]\n",
            "[4 5 6]\n",
            "[7 8 9]\n"
          ]
        }
      ]
    },
    {
      "cell_type": "code",
      "source": [
        "arr = np.array([1, 2, 3, 4, 5, 6, 7, 8, 9]) #illa hepsi aynı sayıda olmak zorunda değil.Eğer split() fonksiyonunu kullanmak istersek eşit bölmekzorundayız yoksa hata alırız.\n",
        "np.array_split(arr,4)"
      ],
      "metadata": {
        "colab": {
          "base_uri": "https://localhost:8080/"
        },
        "id": "sfB8sz39Cz5j",
        "outputId": "345bef51-9ae1-4af3-e894-38e3e4d289bb"
      },
      "execution_count": 30,
      "outputs": [
        {
          "output_type": "execute_result",
          "data": {
            "text/plain": [
              "[array([1, 2, 3]), array([4, 5]), array([6, 7]), array([8, 9])]"
            ]
          },
          "metadata": {},
          "execution_count": 30
        }
      ]
    },
    {
      "cell_type": "markdown",
      "source": [
        "#Splitting 2-D Arrays"
      ],
      "metadata": {
        "id": "9zi6PJStEH1G"
      }
    },
    {
      "cell_type": "code",
      "source": [
        "arr = np.array([[1, 2], [3, 4], [5, 6], [7, 8], [9, 10], [11, 12]])\n",
        "\n",
        "newarr = np.array_split(arr, 3)\n",
        "\n",
        "print(newarr)"
      ],
      "metadata": {
        "colab": {
          "base_uri": "https://localhost:8080/"
        },
        "id": "52TyofeODbLG",
        "outputId": "5402a6dd-8edd-4112-b831-671ee1daf574"
      },
      "execution_count": 31,
      "outputs": [
        {
          "output_type": "stream",
          "name": "stdout",
          "text": [
            "[array([[1, 2],\n",
            "       [3, 4]]), array([[5, 6],\n",
            "       [7, 8]]), array([[ 9, 10],\n",
            "       [11, 12]])]\n"
          ]
        }
      ]
    },
    {
      "cell_type": "code",
      "source": [
        "#hsplit() = hstack() fonksiyonunun tersidir. aynı zamanda array_split(arr,3,axis=1) ile de oluşturulabilir.\n",
        "arr = np.array([[1, 2, 3], [4, 5, 6], [7, 8, 9], [10, 11, 12], [13, 14, 15], [16, 17, 18]])\n",
        "\n",
        "newarr = np.hsplit(arr, 3)\n",
        "\n",
        "print(newarr)"
      ],
      "metadata": {
        "colab": {
          "base_uri": "https://localhost:8080/"
        },
        "id": "od4WP9QJEM2P",
        "outputId": "a1c6caf1-040a-4084-bf84-cf9618c413f5"
      },
      "execution_count": 32,
      "outputs": [
        {
          "output_type": "stream",
          "name": "stdout",
          "text": [
            "[array([[ 1],\n",
            "       [ 4],\n",
            "       [ 7],\n",
            "       [10],\n",
            "       [13],\n",
            "       [16]]), array([[ 2],\n",
            "       [ 5],\n",
            "       [ 8],\n",
            "       [11],\n",
            "       [14],\n",
            "       [17]]), array([[ 3],\n",
            "       [ 6],\n",
            "       [ 9],\n",
            "       [12],\n",
            "       [15],\n",
            "       [18]])]\n"
          ]
        }
      ]
    },
    {
      "cell_type": "code",
      "source": [
        "#Similar alternates to vstack() and dstack() are available as vsplit() and dsplit()."
      ],
      "metadata": {
        "id": "4i8NLbEAFN9J"
      },
      "execution_count": null,
      "outputs": []
    },
    {
      "cell_type": "markdown",
      "source": [
        "#Searching Arrays"
      ],
      "metadata": {
        "id": "Ln2Ii3SFFjJK"
      }
    },
    {
      "cell_type": "code",
      "source": [
        "#where() metodu kullanılır.\n",
        "#bir arrayda aradığımız kesin bir değer varsa where() metoduyla o değerin hangi indexlerde olduğunu öğreniriz.\n",
        "arr = np.array([1, 2, 3, 4, 5, 4, 4])\n",
        "\n",
        "x = np.where(arr == 4)\n",
        "\n",
        "print(x)"
      ],
      "metadata": {
        "colab": {
          "base_uri": "https://localhost:8080/"
        },
        "id": "-7fyomXTGJmW",
        "outputId": "a34343ab-de27-43a7-872b-5c3ca5b65d1e"
      },
      "execution_count": 33,
      "outputs": [
        {
          "output_type": "stream",
          "name": "stdout",
          "text": [
            "(array([3, 5, 6]),)\n"
          ]
        }
      ]
    },
    {
      "cell_type": "code",
      "source": [
        "#çift sayıları bulma\n",
        "arr = np.array([1, 2, 3, 4, 5, 6, 7, 8])\n",
        "\n",
        "x = np.where(arr%2 == 0)\n",
        "\n",
        "print(x)\n",
        "#tek sayıları bulma\n",
        "y = np.where(arr%2 == 1)\n",
        "print(y)"
      ],
      "metadata": {
        "colab": {
          "base_uri": "https://localhost:8080/"
        },
        "id": "fxp_tAVmHSmr",
        "outputId": "59e62d9e-3593-49f1-f8a6-8df01ca35634"
      },
      "execution_count": 36,
      "outputs": [
        {
          "output_type": "stream",
          "name": "stdout",
          "text": [
            "(array([1, 3, 5, 7]),)\n",
            "(array([0, 2, 4, 6]),)\n"
          ]
        }
      ]
    },
    {
      "cell_type": "code",
      "source": [
        "#Search Sorted\n",
        "#searchsorted()\n",
        "#parantezin içine önce hangi arrayde yapacağımızı yazarız, daha sonra gireceğimiz değeriyazarız. Gireceğimiz değerin/değerlerin hangi indexte olması gerektiğini gösterir.\n",
        "#bu metod aramaya soldan başlar.\n",
        "arr = np.array([6, 7, 8, 9])\n",
        "\n",
        "x = np.searchsorted(arr, 7.5)\n",
        "\n",
        "print(x)"
      ],
      "metadata": {
        "colab": {
          "base_uri": "https://localhost:8080/"
        },
        "id": "u-f_pzDoHrEj",
        "outputId": "20fd59ca-b358-4b2d-a1d5-894ab9d1cf38"
      },
      "execution_count": 4,
      "outputs": [
        {
          "output_type": "stream",
          "name": "stdout",
          "text": [
            "2\n"
          ]
        }
      ]
    },
    {
      "cell_type": "code",
      "source": [
        "#eğer sağdan başlamasını istiyorsak aşağıdaki metodu uygularız.\n",
        "#searchsorted(array,değer,side=\"right\") metoduyla sağdan başlanır.\n",
        "arr = np.array([6, 7, 8, 9])\n",
        "\n",
        "x = np.searchsorted(arr, 7.5, side='right')\n",
        "\n",
        "print(x)"
      ],
      "metadata": {
        "colab": {
          "base_uri": "https://localhost:8080/"
        },
        "id": "7wDGnecZIz4L",
        "outputId": "7cd84841-8756-4be4-a446-313fd48a548a"
      },
      "execution_count": 6,
      "outputs": [
        {
          "output_type": "stream",
          "name": "stdout",
          "text": [
            "2\n"
          ]
        }
      ]
    },
    {
      "cell_type": "code",
      "source": [
        "## çoklu değerlerle searchsorted() çalışmak\n",
        "\n",
        "arr = np.array([1, 3, 5, 7])\n",
        "x = np.searchsorted(arr, [2, 4, 6])\n",
        "print(x)"
      ],
      "metadata": {
        "colab": {
          "base_uri": "https://localhost:8080/"
        },
        "id": "OdiMJSuQJdaz",
        "outputId": "b8d0996d-9e12-4531-966d-d0ac88dba510"
      },
      "execution_count": 7,
      "outputs": [
        {
          "output_type": "stream",
          "name": "stdout",
          "text": [
            "[1 2 3]\n"
          ]
        }
      ]
    },
    {
      "cell_type": "markdown",
      "source": [
        "#Sorting Arrays"
      ],
      "metadata": {
        "id": "_7pUdc1tKt3C"
      }
    },
    {
      "cell_type": "code",
      "source": [
        "#sorted()\n",
        "#bu metod orijinal arrayi bozmaz, orijinal arrayi kopyalar ve sıralar.\n",
        "# nümerik veya alfabetik ; aşağıdan yukarıya veya yukarıdan aşağıya sıralama yapılabilir.\n",
        "arr = np.array([3, 2, 0, 1])\n",
        "\n",
        "print(np.sort(arr))\n",
        "\n",
        "arr1 = np.array([\"banana\", \"apple\", \"cherry\"])\n",
        "print(np.sort(arr1))"
      ],
      "metadata": {
        "colab": {
          "base_uri": "https://localhost:8080/"
        },
        "id": "Bup5w41-KKni",
        "outputId": "fb9f986d-f29f-414c-ef83-f86a60856cc3"
      },
      "execution_count": 10,
      "outputs": [
        {
          "output_type": "stream",
          "name": "stdout",
          "text": [
            "[0 1 2 3]\n",
            "['apple' 'banana' 'cherry']\n"
          ]
        }
      ]
    },
    {
      "cell_type": "code",
      "source": [
        "#Sorting a 2-D Array\n",
        "arr = np.array([[3, 1, 7], [9, 2, 0]])\n",
        "print(np.sort(arr))"
      ],
      "metadata": {
        "colab": {
          "base_uri": "https://localhost:8080/"
        },
        "id": "07kq7XSVK8Oc",
        "outputId": "7ca245f1-fbc3-43ac-9b14-b1d425963ce9"
      },
      "execution_count": 11,
      "outputs": [
        {
          "output_type": "stream",
          "name": "stdout",
          "text": [
            "[[1 3 7]\n",
            " [0 2 9]]\n"
          ]
        }
      ]
    },
    {
      "cell_type": "code",
      "source": [
        "#Filtering Arrays\n",
        "arr = np.array([41, 42, 43, 44])\n",
        "\n",
        "x = [True, False, True, False]\n",
        "\n",
        "newarr = arr[x]\n",
        "\n",
        "print(newarr)\n",
        "#True olanları yeni arraye ekler sadece."
      ],
      "metadata": {
        "colab": {
          "base_uri": "https://localhost:8080/"
        },
        "id": "k1qCsbfwLwsU",
        "outputId": "69dd1259-c2cb-40e2-c080-ef97dc08639d"
      },
      "execution_count": 12,
      "outputs": [
        {
          "output_type": "stream",
          "name": "stdout",
          "text": [
            "[41 43]\n"
          ]
        }
      ]
    },
    {
      "cell_type": "code",
      "source": [
        "#örnek 2:\n",
        "arr = np.array([41, 42, 43, 44])\n",
        "filtering_arr = []\n",
        "for i in arr:\n",
        "  if i > 42:\n",
        "    filtering_arr.append(True)\n",
        "  else:\n",
        "\n",
        "    filtering_arr.append(False)\n",
        "\n",
        "new_arr = arr[filtering_arr]\n",
        "print(filtering_arr)\n",
        "print(new_arr)\n",
        "print(\"#############################################\")\n",
        "#veya daha kısa yol olarak:\n",
        "arr = np.array([41, 42, 43, 44])\n",
        "filter_arr = arr > 42\n",
        "new_arr2 = arr[filtering_arr]\n",
        "print(filter_arr)\n",
        "print(new_arr2)"
      ],
      "metadata": {
        "colab": {
          "base_uri": "https://localhost:8080/"
        },
        "id": "fsuGEZDqNh5-",
        "outputId": "ad3b30be-17e1-411e-8118-b009dfbedd9e"
      },
      "execution_count": 17,
      "outputs": [
        {
          "output_type": "stream",
          "name": "stdout",
          "text": [
            "[False, False, True, True]\n",
            "[43 44]\n",
            "#############################################\n",
            "[False False  True  True]\n",
            "[43 44]\n"
          ]
        }
      ]
    },
    {
      "cell_type": "code",
      "source": [
        "#örnek 3:\n",
        "arr = np.array([1, 2, 3, 4, 5, 6, 7])\n",
        "filtering_arr = []\n",
        "for i in arr:\n",
        "  if i%2 == 0 :\n",
        "    filtering_arr.append(True)\n",
        "  else:\n",
        "    filtering_arr.append(False)\n",
        "new_arr = arr[filtering_arr]\n",
        "print(filtering_arr)\n",
        "print(new_arr)\n",
        "print(\"#############################################\")\n",
        "#veya daha kısa yol olarak :\n",
        "arr = np.array([1, 2, 3, 4, 5, 6, 7])\n",
        "filter_arr = arr % 2 == 0\n",
        "new_arr2 = arr[filter_arr]\n",
        "print(filter_arr)\n",
        "print(new_arr2)"
      ],
      "metadata": {
        "colab": {
          "base_uri": "https://localhost:8080/"
        },
        "id": "WvupBXCjOMSg",
        "outputId": "1fdb3b1c-0a07-423a-aec2-f3aad3296aae"
      },
      "execution_count": 18,
      "outputs": [
        {
          "output_type": "stream",
          "name": "stdout",
          "text": [
            "[False, True, False, True, False, True, False]\n",
            "[2 4 6]\n",
            "#############################################\n",
            "[False  True False  True False  True False]\n",
            "[2 4 6]\n"
          ]
        }
      ]
    },
    {
      "cell_type": "code",
      "source": [],
      "metadata": {
        "id": "89c86MQbPH2p"
      },
      "execution_count": null,
      "outputs": []
    }
  ]
}